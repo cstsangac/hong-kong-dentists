{
 "cells": [
  {
   "cell_type": "code",
   "execution_count": 2,
   "metadata": {},
   "outputs": [],
   "source": [
    "from lxml import html\n",
    "import requests\n",
    "from xml.etree import ElementTree\n",
    "\n",
    "\n",
    "\n",
    "\n",
    "host = 'https://www.hkdentists.com.hk'\n",
    "url = 'https://www.hkdentists.com.hk/index.php?actiontype=search&dentist_name=&clinic_dist=showall&practice=showall&specialist=&openhour=&language=chi'\n",
    "page = requests.get(url)\n",
    "tree = html.fromstring(page.content)\n",
    "\n"
   ]
  },
  {
   "cell_type": "code",
   "execution_count": 3,
   "metadata": {},
   "outputs": [],
   "source": [
    "clinics = tree.xpath('//a[@class=\"link_text\"]')"
   ]
  },
  {
   "cell_type": "code",
   "execution_count": 5,
   "metadata": {},
   "outputs": [
    {
     "name": "stdout",
     "output_type": "stream",
     "text": [
      "1071\n"
     ]
    }
   ],
   "source": [
    "#body/table/tr/td[2]/table/tr[3]/td/table\n",
    "xpath = '/html/body/table'\n",
    "records = []\n",
    "for clinic in clinics:\n",
    "    clinic_url = host + clinic.attrib['href'][1:] + '&language=chi'\n",
    "    #print(clinic_url)\n",
    "    clinic_page = requests.get(clinic_url)\n",
    "    \n",
    "    clinic_page_tree = html.fromstring(clinic_page.content)\n",
    "    clinic_page_info = clinic_page_tree.find('body/table/tr/td[2]/table/tr[3]/td/table').getchildren()\n",
    "    #print(clinic_page_info)\n",
    "    record = {}\n",
    "    for row in clinic_page_info:\n",
    "        if len(row) != 2:\n",
    "            continue\n",
    "        k = '-'.join([x.strip() for x in row[0].itertext()])\n",
    "        v = '-'.join([x.strip() for x in row[1].itertext()])\n",
    "        #print(k, v)\n",
    "        record[k] = v\n",
    "    records.append(record)\n",
    "    #break\n",
    "print(len(records))"
   ]
  },
  {
   "cell_type": "code",
   "execution_count": 21,
   "metadata": {},
   "outputs": [
    {
     "name": "stdout",
     "output_type": "stream",
     "text": [
      "{'Dentist Name:': 'AU HUNG ON, ADAM', '牙醫姓名:': '區雄安', '業務類型:': '私家', '專科:': '兒童齒科', '資歷': '香港大學牙醫學士-英國愛丁堡皇家外科醫學院兒童齒科學院員-香港牙科醫學院院士(兒童齒科)專科-香港醫學專科學院院士(牙科)-澳紐皇家牙科醫學院院士', '診所地址:': '中環皇後大道中36號-興瑋大廈1102室', '地區:': '中西區', '電話號碼:': '25225044', '傳真號碼:': '', '星期一:': '09:30 am - 1:30  pm , \\xa0 \\xa0 3:00  pm - 7:00  pm', '星期二:': '09:30 am - 1:30  pm , \\xa0 \\xa0 3:00  pm - 7:00  pm', '星期三:': '09:30 am - 1:30  pm , \\xa0 \\xa0 3:00  pm - 7:00  pm', '星期四:': '09:30 am - 1:30  pm , \\xa0 \\xa0 3:00  pm - 7:00  pm', '星期五:': '09:30 am - 1:30  pm , \\xa0 \\xa0 3:00  pm - 7:00  pm', '星期六:': '09:30 am - 1:30  pm , \\xa0 \\xa0 3:00  pm - 7:00  pm', '星期日:': '休息', '公眾假期:': '休息', '能否提供緊急服務:': '能', '緊急聯絡電話:': '', '電郵地址:': 'adam@adamantdental.com'}\n"
     ]
    }
   ],
   "source": [
    "print(records[1])"
   ]
  },
  {
   "cell_type": "code",
   "execution_count": 25,
   "metadata": {},
   "outputs": [],
   "source": [
    "import csv\n",
    "\n",
    "with open('output.csv', 'w', encoding='utf-8', newline='') as f:  # Just use 'w' mode in 3.x\n",
    "    w = csv.DictWriter(f, records[1].keys(), extrasaction='ignore')\n",
    "    w.writeheader()\n",
    "    for x in records:\n",
    "        w.writerow(x)"
   ]
  }
 ],
 "metadata": {
  "kernelspec": {
   "display_name": "Python 3",
   "language": "python",
   "name": "python3"
  },
  "language_info": {
   "codemirror_mode": {
    "name": "ipython",
    "version": 3
   },
   "file_extension": ".py",
   "mimetype": "text/x-python",
   "name": "python",
   "nbconvert_exporter": "python",
   "pygments_lexer": "ipython3",
   "version": "3.7.1"
  }
 },
 "nbformat": 4,
 "nbformat_minor": 2
}
